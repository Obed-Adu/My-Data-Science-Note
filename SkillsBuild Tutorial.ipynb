{
 "cells": [
  {
   "cell_type": "code",
   "execution_count": 6,
   "metadata": {},
   "outputs": [
    {
     "name": "stdout",
     "output_type": "stream",
     "text": [
      "1982\n",
      "it took  1 repetition to get out of loop\n",
      "-4\n",
      "-3\n",
      "-2\n",
      "-1\n",
      "0\n",
      "1\n",
      "2\n",
      "3\n",
      "4\n",
      "rock\n",
      "r&b\n",
      "soundtrack\n",
      "r&b\n",
      "soul\n",
      "pop\n",
      "['orange']\n",
      "multiplication table of 6:\n",
      "6* 0 = 0\n",
      "6* 1 = 6\n",
      "6* 2 = 12\n",
      "6* 3 = 18\n",
      "6* 4 = 24\n",
      "6* 5 = 30\n",
      "6* 6 = 36\n",
      "6* 7 = 42\n",
      "6* 8 = 48\n",
      "6* 9 = 54\n"
     ]
    }
   ],
   "source": [
    "dates = [1982, 1973, 2003]\n",
    "i = 0\n",
    "year = dates[0]\n",
    "\n",
    "while(year !=1973):\n",
    "    print(year)\n",
    "    i=i+1\n",
    "    year=dates[i]\n",
    "\n",
    "print(\"it took \", i , \"repetition to get out of loop\")\n",
    "\n",
    "\n",
    "for i in range(-4, 5):\n",
    "    print(i)\n",
    "\n",
    "genres = ['rock', 'r&b', 'soundtrack','r&b', 'soul', 'pop']\n",
    "for genre in genres:\n",
    "    print(genre)\n",
    "\n",
    "squares = ['orange','orange','purple','blue','orange']\n",
    "new_square=[]\n",
    "i=0\n",
    "while(i<len(squares) and squares[i] =='orange'):\n",
    "    new_square.append(squares[i])\n",
    "    i=i+1\n",
    "    print(new_square)\n",
    "\n",
    "    print(\"multiplication table of 6:\")\n",
    "    for i in range(10):\n",
    "        print(\"6*\",i,\"=\",6*i)\n",
    "\n",
    "\n",
    "\n"
   ]
  },
  {
   "cell_type": "code",
   "execution_count": 10,
   "metadata": {},
   "outputs": [
    {
     "name": "stdout",
     "output_type": "stream",
     "text": [
      "['giraffe', 'gorilla', 'parrots']\n"
     ]
    }
   ],
   "source": [
    "animals = [\"lion\",\"giraffe\",\"gorilla\",\"parrots\",\"crocodile\",\"deer\",\"swan\"]\n",
    "new=[]\n",
    "i=0\n",
    "while i<len(animals):\n",
    "    j=animals[i]\n",
    "    if(len(j)==7):\n",
    "        new.append(j)\n",
    "    i=i+1\n",
    "print(new)\n",
    "    \n",
    "\n"
   ]
  },
  {
   "cell_type": "code",
   "execution_count": 2,
   "metadata": {},
   "outputs": [
    {
     "name": "stdout",
     "output_type": "stream",
     "text": [
      "correct.\n"
     ]
    }
   ],
   "source": [
    "c=[1,2,3,4,5]\n",
    "def g(c):\n",
    "    return sum(c)\n",
    "\n",
    "if sum(c)==g(c):\n",
    "    print(\"correct.\")\n",
    "else:\n",
    "    print(\"incorrect\")\n",
    "\n",
    "def f(*x):\n",
    "    return sum(x)"
   ]
  },
  {
   "cell_type": "code",
   "execution_count": 3,
   "metadata": {},
   "outputs": [],
   "source": [
    "def f(*x):\n",
    "    return sum(x)"
   ]
  },
  {
   "cell_type": "markdown",
   "metadata": {},
   "source": [
    "\n"
   ]
  },
  {
   "cell_type": "code",
   "execution_count": 13,
   "metadata": {},
   "outputs": [],
   "source": [
    "def add(a):\n",
    "    \"\"\"\n",
    "    add 1 to  a\n",
    "    \"\"\"\n",
    "    b=a+1\n",
    "    print(a,\"if you add one\", b)\n",
    "    return(b)\n"
   ]
  },
  {
   "cell_type": "code",
   "execution_count": 8,
   "metadata": {},
   "outputs": [
    {
     "name": "stdout",
     "output_type": "stream",
     "text": [
      "this is not prrinted\n",
      "24\n"
     ]
    },
    {
     "data": {
      "text/plain": [
       "'Michael Jackson Michael Jackson '"
      ]
     },
     "execution_count": 8,
     "metadata": {},
     "output_type": "execute_result"
    }
   ],
   "source": [
    "def Mult(a, b):\n",
    "    c = a*b\n",
    "    return(c)\n",
    "print('this is not prrinted')\n",
    "\n",
    "result = Mult(12,2)\n",
    "print(result)\n",
    "\n",
    "Mult(2, \"Michael Jackson \")\n",
    "\n"
   ]
  },
  {
   "cell_type": "code",
   "execution_count": 15,
   "metadata": {},
   "outputs": [
    {
     "name": "stdout",
     "output_type": "stream",
     "text": [
      "2 if you square +1 5\n"
     ]
    }
   ],
   "source": [
    "def square(a):\n",
    "    b=1\n",
    "    c=a*a+b\n",
    "    print(a, \"if you square +1\", c)\n",
    "    return(c)\n",
    "x=2\n",
    "z=square(x)\n"
   ]
  },
  {
   "cell_type": "code",
   "execution_count": 19,
   "metadata": {},
   "outputs": [],
   "source": [
    "def MJ():\n",
    "    print('michael jackson')\n",
    "\n",
    "def MJ1():\n",
    "    print('michael jackson')\n",
    "    return(None)"
   ]
  },
  {
   "cell_type": "code",
   "execution_count": 22,
   "metadata": {},
   "outputs": [
    {
     "data": {
      "text/plain": [
       "'This is'"
      ]
     },
     "execution_count": 22,
     "metadata": {},
     "output_type": "execute_result"
    }
   ],
   "source": [
    "def con(a, b):\n",
    "    return(a+b)\n",
    "\n",
    "con(\"This \",  \"is\")"
   ]
  },
  {
   "cell_type": "code",
   "execution_count": 28,
   "metadata": {},
   "outputs": [
    {
     "data": {
      "text/plain": [
       "5"
      ]
     },
     "execution_count": 28,
     "metadata": {},
     "output_type": "execute_result"
    }
   ],
   "source": [
    "\n",
    "def Equation(a,b):\n",
    "    c=a+b+2*a*b-1\n",
    "    if(c<0):\n",
    "        c=0\n",
    "    else:\n",
    "        c=5\n",
    "        return(c)\n",
    "    \n",
    "a1=4\n",
    "b1=5\n",
    "c1=Equation(a1, b1)\n",
    "c1 "
   ]
  },
  {
   "cell_type": "code",
   "execution_count": 30,
   "metadata": {},
   "outputs": [
    {
     "data": {
      "text/plain": [
       "'string matched'"
      ]
     },
     "execution_count": 30,
     "metadata": {},
     "output_type": "execute_result"
    }
   ],
   "source": [
    "string=\"michael jackson is the best\"\n",
    "\n",
    "def check_string(text):\n",
    "    if text in string:\n",
    "        return 'string matched'\n",
    "    else:\n",
    "        return 'string not matched'\n",
    "    \n",
    "check_string(\"michael jackson is the best\")"
   ]
  },
  {
   "cell_type": "code",
   "execution_count": 35,
   "metadata": {},
   "outputs": [
    {
     "name": "stdout",
     "output_type": "stream",
     "text": [
      "\n",
      "Sttring matched\n"
     ]
    }
   ],
   "source": [
    "def compareStrings(x, y):\n",
    "    if x==y: \n",
    "        return 1\n",
    "\n",
    "string1= \"michael jackson is the best\"  \n",
    "string2= \"michael jackson is the best\"\n",
    "\n",
    "check= compareStrings(string1, string2)\n",
    "\n",
    "if check==1:\n",
    "    print(\"\\nSttring matched\")\n",
    "else:\n",
    "    print(\"\\nString not matched\") \n"
   ]
  },
  {
   "cell_type": "code",
   "execution_count": 49,
   "metadata": {},
   "outputs": [
    {
     "name": "stdout",
     "output_type": "stream",
     "text": [
      "The Frequency of words is: {'Mary': 5}\n",
      "The Frequency of words is: {'Mary': 5, 'had': 2}\n",
      "The Frequency of words is: {'Mary': 5, 'had': 2, 'a': 2}\n",
      "The Frequency of words is: {'Mary': 5, 'had': 2, 'a': 2, 'little': 4}\n",
      "The Frequency of words is: {'Mary': 5, 'had': 2, 'a': 2, 'little': 4, 'lamb': 3}\n",
      "The Frequency of words is: {'Mary': 5, 'had': 2, 'a': 2, 'little': 4, 'lamb': 3}\n",
      "The Frequency of words is: {'Mary': 5, 'had': 2, 'a': 2, 'little': 4, 'lamb': 3, 'lamb,': 1}\n",
      "The Frequency of words is: {'Mary': 5, 'had': 2, 'a': 2, 'little': 4, 'lamb': 3, 'lamb,': 1}\n",
      "The Frequency of words is: {'Mary': 5, 'had': 2, 'a': 2, 'little': 4, 'lamb': 3, 'lamb,': 1}\n",
      "The Frequency of words is: {'Mary': 5, 'had': 2, 'a': 2, 'little': 4, 'lamb': 3, 'lamb,': 1}\n",
      "The Frequency of words is: {'Mary': 5, 'had': 2, 'a': 2, 'little': 4, 'lamb': 3, 'lamb,': 1}\n",
      "The Frequency of words is: {'Mary': 5, 'had': 2, 'a': 2, 'little': 4, 'lamb': 3, 'lamb,': 1}\n",
      "The Frequency of words is: {'Mary': 5, 'had': 2, 'a': 2, 'little': 4, 'lamb': 3, 'lamb,': 1}\n",
      "The Frequency of words is: {'Mary': 5, 'had': 2, 'a': 2, 'little': 4, 'lamb': 3, 'lamb,': 1, 'lam.': 1}\n",
      "The Frequency of words is: {'Mary': 5, 'had': 2, 'a': 2, 'little': 4, 'lamb': 3, 'lamb,': 1, 'lam.': 1, 'Its': 1}\n",
      "The Frequency of words is: {'Mary': 5, 'had': 2, 'a': 2, 'little': 4, 'lamb': 3, 'lamb,': 1, 'lam.': 1, 'Its': 1, 'flence': 1}\n",
      "The Frequency of words is: {'Mary': 5, 'had': 2, 'a': 2, 'little': 4, 'lamb': 3, 'lamb,': 1, 'lam.': 1, 'Its': 1, 'flence': 1, 'was': 2}\n",
      "The Frequency of words is: {'Mary': 5, 'had': 2, 'a': 2, 'little': 4, 'lamb': 3, 'lamb,': 1, 'lam.': 1, 'Its': 1, 'flence': 1, 'was': 2, 'as': 2}\n",
      "The Frequency of words is: {'Mary': 5, 'had': 2, 'a': 2, 'little': 4, 'lamb': 3, 'lamb,': 1, 'lam.': 1, 'Its': 1, 'flence': 1, 'was': 2, 'as': 2, 'white': 1}\n",
      "The Frequency of words is: {'Mary': 5, 'had': 2, 'a': 2, 'little': 4, 'lamb': 3, 'lamb,': 1, 'lam.': 1, 'Its': 1, 'flence': 1, 'was': 2, 'as': 2, 'white': 1}\n",
      "The Frequency of words is: {'Mary': 5, 'had': 2, 'a': 2, 'little': 4, 'lamb': 3, 'lamb,': 1, 'lam.': 1, 'Its': 1, 'flence': 1, 'was': 2, 'as': 2, 'white': 1, 'snow': 1}\n",
      "The Frequency of words is: {'Mary': 5, 'had': 2, 'a': 2, 'little': 4, 'lamb': 3, 'lamb,': 1, 'lam.': 1, 'Its': 1, 'flence': 1, 'was': 2, 'as': 2, 'white': 1, 'snow': 1, 'And': 1}\n",
      "The Frequency of words is: {'Mary': 5, 'had': 2, 'a': 2, 'little': 4, 'lamb': 3, 'lamb,': 1, 'lam.': 1, 'Its': 1, 'flence': 1, 'was': 2, 'as': 2, 'white': 1, 'snow': 1, 'And': 1, 'everywhere': 1}\n",
      "The Frequency of words is: {'Mary': 5, 'had': 2, 'a': 2, 'little': 4, 'lamb': 3, 'lamb,': 1, 'lam.': 1, 'Its': 1, 'flence': 1, 'was': 2, 'as': 2, 'white': 1, 'snow': 1, 'And': 1, 'everywhere': 1}\n",
      "The Frequency of words is: {'Mary': 5, 'had': 2, 'a': 2, 'little': 4, 'lamb': 3, 'lamb,': 1, 'lam.': 1, 'Its': 1, 'flence': 1, 'was': 2, 'as': 2, 'white': 1, 'snow': 1, 'And': 1, 'everywhere': 1, 'went': 3}\n",
      "The Frequency of words is: {'Mary': 5, 'had': 2, 'a': 2, 'little': 4, 'lamb': 3, 'lamb,': 1, 'lam.': 1, 'Its': 1, 'flence': 1, 'was': 2, 'as': 2, 'white': 1, 'snow': 1, 'And': 1, 'everywhere': 1, 'went': 3}\n",
      "The Frequency of words is: {'Mary': 5, 'had': 2, 'a': 2, 'little': 4, 'lamb': 3, 'lamb,': 1, 'lam.': 1, 'Its': 1, 'flence': 1, 'was': 2, 'as': 2, 'white': 1, 'snow': 1, 'And': 1, 'everywhere': 1, 'went': 3, 'went,': 1}\n",
      "The Frequency of words is: {'Mary': 5, 'had': 2, 'a': 2, 'little': 4, 'lamb': 3, 'lamb,': 1, 'lam.': 1, 'Its': 1, 'flence': 1, 'was': 2, 'as': 2, 'white': 1, 'snow': 1, 'And': 1, 'everywhere': 1, 'went': 3, 'went,': 1}\n",
      "The Frequency of words is: {'Mary': 5, 'had': 2, 'a': 2, 'little': 4, 'lamb': 3, 'lamb,': 1, 'lam.': 1, 'Its': 1, 'flence': 1, 'was': 2, 'as': 2, 'white': 1, 'snow': 1, 'And': 1, 'everywhere': 1, 'went': 3, 'went,': 1}\n",
      "The Frequency of words is: {'Mary': 5, 'had': 2, 'a': 2, 'little': 4, 'lamb': 3, 'lamb,': 1, 'lam.': 1, 'Its': 1, 'flence': 1, 'was': 2, 'as': 2, 'white': 1, 'snow': 1, 'And': 1, 'everywhere': 1, 'went': 3, 'went,': 1, '\\\\': 1}\n",
      "The Frequency of words is: {'Mary': 5, 'had': 2, 'a': 2, 'little': 4, 'lamb': 3, 'lamb,': 1, 'lam.': 1, 'Its': 1, 'flence': 1, 'was': 2, 'as': 2, 'white': 1, 'snow': 1, 'And': 1, 'everywhere': 1, 'went': 3, 'went,': 1, '\\\\': 1, 'Everywhere': 1}\n",
      "The Frequency of words is: {'Mary': 5, 'had': 2, 'a': 2, 'little': 4, 'lamb': 3, 'lamb,': 1, 'lam.': 1, 'Its': 1, 'flence': 1, 'was': 2, 'as': 2, 'white': 1, 'snow': 1, 'And': 1, 'everywhere': 1, 'went': 3, 'went,': 1, '\\\\': 1, 'Everywhere': 1, 'that': 1}\n",
      "The Frequency of words is: {'Mary': 5, 'had': 2, 'a': 2, 'little': 4, 'lamb': 3, 'lamb,': 1, 'lam.': 1, 'Its': 1, 'flence': 1, 'was': 2, 'as': 2, 'white': 1, 'snow': 1, 'And': 1, 'everywhere': 1, 'went': 3, 'went,': 1, '\\\\': 1, 'Everywhere': 1, 'that': 1, 'mary': 1}\n",
      "The Frequency of words is: {'Mary': 5, 'had': 2, 'a': 2, 'little': 4, 'lamb': 3, 'lamb,': 1, 'lam.': 1, 'Its': 1, 'flence': 1, 'was': 2, 'as': 2, 'white': 1, 'snow': 1, 'And': 1, 'everywhere': 1, 'went': 3, 'went,': 1, '\\\\': 1, 'Everywhere': 1, 'that': 1, 'mary': 1}\n",
      "The Frequency of words is: {'Mary': 5, 'had': 2, 'a': 2, 'little': 4, 'lamb': 3, 'lamb,': 1, 'lam.': 1, 'Its': 1, 'flence': 1, 'was': 2, 'as': 2, 'white': 1, 'snow': 1, 'And': 1, 'everywhere': 1, 'went': 3, 'went,': 1, '\\\\': 1, 'Everywhere': 1, 'that': 1, 'mary': 1, 'the': 1}\n",
      "The Frequency of words is: {'Mary': 5, 'had': 2, 'a': 2, 'little': 4, 'lamb': 3, 'lamb,': 1, 'lam.': 1, 'Its': 1, 'flence': 1, 'was': 2, 'as': 2, 'white': 1, 'snow': 1, 'And': 1, 'everywhere': 1, 'went': 3, 'went,': 1, '\\\\': 1, 'Everywhere': 1, 'that': 1, 'mary': 1, 'the': 1}\n",
      "The Frequency of words is: {'Mary': 5, 'had': 2, 'a': 2, 'little': 4, 'lamb': 3, 'lamb,': 1, 'lam.': 1, 'Its': 1, 'flence': 1, 'was': 2, 'as': 2, 'white': 1, 'snow': 1, 'And': 1, 'everywhere': 1, 'went': 3, 'went,': 1, '\\\\': 1, 'Everywhere': 1, 'that': 1, 'mary': 1, 'the': 1}\n",
      "The Frequency of words is: {'Mary': 5, 'had': 2, 'a': 2, 'little': 4, 'lamb': 3, 'lamb,': 1, 'lam.': 1, 'Its': 1, 'flence': 1, 'was': 2, 'as': 2, 'white': 1, 'snow': 1, 'And': 1, 'everywhere': 1, 'went': 3, 'went,': 1, '\\\\': 1, 'Everywhere': 1, 'that': 1, 'mary': 1, 'the': 1, 'sure': 1}\n",
      "The Frequency of words is: {'Mary': 5, 'had': 2, 'a': 2, 'little': 4, 'lamb': 3, 'lamb,': 1, 'lam.': 1, 'Its': 1, 'flence': 1, 'was': 2, 'as': 2, 'white': 1, 'snow': 1, 'And': 1, 'everywhere': 1, 'went': 3, 'went,': 1, '\\\\': 1, 'Everywhere': 1, 'that': 1, 'mary': 1, 'the': 1, 'sure': 1, 'to': 1}\n",
      "The Frequency of words is: {'Mary': 5, 'had': 2, 'a': 2, 'little': 4, 'lamb': 3, 'lamb,': 1, 'lam.': 1, 'Its': 1, 'flence': 1, 'was': 2, 'as': 2, 'white': 1, 'snow': 1, 'And': 1, 'everywhere': 1, 'went': 3, 'went,': 1, '\\\\': 1, 'Everywhere': 1, 'that': 1, 'mary': 1, 'the': 1, 'sure': 1, 'to': 1, 'go': 1}\n"
     ]
    }
   ],
   "source": [
    "def freq(string):\n",
    "    words = []\n",
    "    words = string.split()\n",
    "\n",
    "    Dict = {}\n",
    "    for key in words:\n",
    "        Dict[key] = words.count(key)\n",
    "\n",
    "        print(\"The Frequency of words is:\",Dict)\n",
    "\n",
    "freq(\"Mary had a little lamb little lamb, little lamb Mary had a little lam. Its flence was as white as snow And everywhere Mary went Mary went, Mary went \\ Everywhere that mary went the lamb was sure to go\")\n"
   ]
  },
  {
   "cell_type": "code",
   "execution_count": 38,
   "metadata": {},
   "outputs": [
    {
     "name": "stdout",
     "output_type": "stream",
     "text": [
      "this album sucks its rating is: 4\n",
      "this album is good its rating is: 8\n"
     ]
    }
   ],
   "source": [
    "def isGoodRating(rating=4):\n",
    "    if(rating < 7):\n",
    "        print(\"this album sucks its rating is:\",rating)\n",
    "    else:\n",
    "        print(\"this album is good its rating is:\",rating)\n",
    "\n",
    "isGoodRating()\n",
    "isGoodRating(8)"
   ]
  },
  {
   "cell_type": "code",
   "execution_count": 39,
   "metadata": {},
   "outputs": [
    {
     "name": "stdout",
     "output_type": "stream",
     "text": [
      "michael jackson is an artist\n",
      "whitney houston is an artist\n"
     ]
    }
   ],
   "source": [
    "artist = \"michael jackson\"\n",
    "\n",
    "def printer(artist):\n",
    "    global internal_var\n",
    "    internal_var=\"whitney houston\"\n",
    "    print(artist,\"is an artist\")\n",
    "\n",
    "printer(artist)\n",
    "printer(internal_var)"
   ]
  },
  {
   "cell_type": "code",
   "execution_count": 40,
   "metadata": {},
   "outputs": [
    {
     "name": "stdout",
     "output_type": "stream",
     "text": [
      "No of argument: 4\n",
      "horsefeather\n",
      "adonis\n",
      "mudslide\n",
      "carriage\n"
     ]
    }
   ],
   "source": [
    "def printall(*args):\n",
    "    print(\"No of argument:\", len(args))\n",
    "    for argument in args:\n",
    "        print(argument)\n",
    "\n",
    "printall('horsefeather','adonis','mudslide','carriage')"
   ]
  },
  {
   "cell_type": "code",
   "execution_count": 42,
   "metadata": {},
   "outputs": [
    {
     "name": "stdout",
     "output_type": "stream",
     "text": [
      "Country:canada\n",
      "Province:ontario\n",
      "City:toronto\n"
     ]
    }
   ],
   "source": [
    "def printDictionary(**args):\n",
    "    for key in args:\n",
    "        print(key + \":\"+ args[key])\n",
    "\n",
    "printDictionary(Country='canada', Province='ontario', City='toronto')"
   ]
  },
  {
   "cell_type": "code",
   "execution_count": 44,
   "metadata": {},
   "outputs": [
    {
     "data": {
      "text/plain": [
       "['one', 'two', 'three', 'four']"
      ]
     },
     "execution_count": 44,
     "metadata": {},
     "output_type": "execute_result"
    }
   ],
   "source": [
    "def addItems(list):\n",
    "    list.append(\"three\")\n",
    "    list.append(\"four\")\n",
    "\n",
    "myList = [\"one\",\"two\"]\n",
    "\n",
    "addItems(myList)\n",
    "\n",
    "myList"
   ]
  },
  {
   "cell_type": "code",
   "execution_count": 46,
   "metadata": {},
   "outputs": [
    {
     "data": {
      "text/plain": [
       "['a', 1, 'b', 1]"
      ]
     },
     "execution_count": 46,
     "metadata": {},
     "output_type": "execute_result"
    }
   ],
   "source": [
    "def con(a, b):\n",
    "    return(a+b)\n",
    "\n",
    "con(['a', 1], ['b', 1])"
   ]
  },
  {
   "cell_type": "code",
   "execution_count": 48,
   "metadata": {},
   "outputs": [
    {
     "name": "stdout",
     "output_type": "stream",
     "text": [
      "total count: {'little': 3}\n"
     ]
    }
   ],
   "source": [
    "def freq(string,passedkey):\n",
    "    words = []\n",
    "    words = string.split()\n",
    "    Dict = {}\n",
    "    for key in words:\n",
    "        if(key==passedkey):\n",
    "            Dict[key] = words.count(key)\n",
    "    print(\"total count:\",Dict)\n",
    "\n",
    "freq(\"Mary had a little lamb little lamb little lamb\",\"little\")"
   ]
  },
  {
   "cell_type": "code",
   "execution_count": 2,
   "metadata": {},
   "outputs": [
    {
     "name": "stdout",
     "output_type": "stream",
     "text": [
      "make:  BMW\n",
      "model:  M3\n",
      "color:  red\n",
      "number of owners: 0\n",
      "make:  BMW\n",
      "model:  M3\n",
      "color:  red\n",
      "number of owners: 5\n"
     ]
    }
   ],
   "source": [
    "class Car(object):\n",
    "    def __init__(self,make,model,color):\n",
    "        self.make=make;\n",
    "        self.model=model;\n",
    "        self.color=color;\n",
    "        self.owner_number=0\n",
    "    def car_info(self):\n",
    "        print(\"make: \",self.make)\n",
    "        print(\"model: \",self.model)\n",
    "        print(\"color: \",self.color)\n",
    "        print(\"number of owners:\",self.owner_number)\n",
    "    def sell(self):\n",
    "        self.owner_number=self.owner_number+1 \n",
    "\n",
    "make=\"BMW\"\n",
    "model=\"M3\"\n",
    "color=\"red\"\n",
    "\n",
    "my_car = Car(make,model,color)\n",
    "\n",
    "my_car.car_info()\n",
    "for i in range(5):\n",
    "    my_car.sell()\n",
    "\n",
    "my_car.car_info()"
   ]
  },
  {
   "cell_type": "code",
   "execution_count": null,
   "metadata": {},
   "outputs": [
    {
     "ename": "",
     "evalue": "",
     "output_type": "error",
     "traceback": [
      "\u001b[1;31mFailed to start the Kernel. \n",
      "\u001b[1;31mUnable to start Kernel 'Python undefined.undefined.undefined' due to a timeout waiting for the ports to get used. \n",
      "\u001b[1;31mView Jupyter <a href='command:jupyter.viewOutput'>log</a> for further details."
     ]
    }
   ],
   "source": [
    "class Circle(object):\n",
    "    def __init__(self, radius=3, color='blue' ):\n",
    "        self.radius = radius\n",
    "        self.color = color\n",
    "\n",
    "    def add_radius(self, r):\n",
    "        self.radius = sslf.radiuus + r\n",
    "        return(self.radius)\n",
    "    \n",
    "def drawCircle(self):\n",
    "    plt.gca().add_patch(plt.Circle(0, 0), radius=self.radius, fc=self.color)\n",
    "    plt.axis('scaled')\n",
    "    plt.show()\n",
    "\n",
    "RedCircle = Circle(10, 'red')\n",
    "dir(RedCircle)\n",
    "RedCircle.radius\n",
    "RedCircle.color\n",
    "\n",
    "RedCircle.radius = 1\n",
    "RedCircle.radius\n",
    "\n",
    "RedCircle.drawCircle()\n",
    "\n",
    "print('Radius of object:',RedCircle.radius)\n",
    "RedCircle.add_radius(2)\n",
    "print('Radius of object of after applying the method add_radius(2):',RedCircle.radius)\n",
    "RedCircle.add_radius(5)\n",
    "print('Radius of object of after applying the method add_radius(5):',RedCircle.radius)\n",
    "       "
   ]
  }
 ],
 "metadata": {
  "kernelspec": {
   "display_name": "Python 3",
   "language": "python",
   "name": "python3"
  },
  "language_info": {
   "codemirror_mode": {
    "name": "ipython",
    "version": 3
   },
   "file_extension": ".py",
   "mimetype": "text/x-python",
   "name": "python",
   "nbconvert_exporter": "python",
   "pygments_lexer": "ipython3",
   "version": "undefined.undefined.undefined"
  }
 },
 "nbformat": 4,
 "nbformat_minor": 2
}
